{
 "cells": [
  {
   "cell_type": "code",
   "execution_count": 39,
   "id": "56c3d448-2915-4f73-9e6d-bc9b6ff7189b",
   "metadata": {
    "scrolled": true
   },
   "outputs": [
    {
     "name": "stdout",
     "output_type": "stream",
     "text": [
      "Requirement already satisfied: nltk in c:\\users\\user\\anaconda3\\lib\\site-packages (3.8.1)\n",
      "Requirement already satisfied: click in c:\\users\\user\\anaconda3\\lib\\site-packages (from nltk) (8.0.4)\n",
      "Requirement already satisfied: joblib in c:\\users\\user\\anaconda3\\lib\\site-packages (from nltk) (1.2.0)\n",
      "Requirement already satisfied: regex>=2021.8.3 in c:\\users\\user\\anaconda3\\lib\\site-packages (from nltk) (2022.7.9)\n",
      "Requirement already satisfied: tqdm in c:\\users\\user\\anaconda3\\lib\\site-packages (from nltk) (4.65.0)\n",
      "Requirement already satisfied: colorama in c:\\users\\user\\anaconda3\\lib\\site-packages (from click->nltk) (0.4.6)\n",
      "Requirement already satisfied: beautifulsoup4 in c:\\users\\user\\anaconda3\\lib\\site-packages (4.12.2)\n",
      "Requirement already satisfied: soupsieve>1.2 in c:\\users\\user\\anaconda3\\lib\\site-packages (from beautifulsoup4) (2.4)\n",
      "Requirement already satisfied: spacy in c:\\users\\user\\anaconda3\\lib\\site-packages (3.7.5)\n",
      "Requirement already satisfied: spacy-legacy<3.1.0,>=3.0.11 in c:\\users\\user\\anaconda3\\lib\\site-packages (from spacy) (3.0.12)\n",
      "Requirement already satisfied: spacy-loggers<2.0.0,>=1.0.0 in c:\\users\\user\\anaconda3\\lib\\site-packages (from spacy) (1.0.5)\n",
      "Requirement already satisfied: murmurhash<1.1.0,>=0.28.0 in c:\\users\\user\\anaconda3\\lib\\site-packages (from spacy) (1.0.10)\n",
      "Requirement already satisfied: cymem<2.1.0,>=2.0.2 in c:\\users\\user\\anaconda3\\lib\\site-packages (from spacy) (2.0.8)\n",
      "Requirement already satisfied: preshed<3.1.0,>=3.0.2 in c:\\users\\user\\anaconda3\\lib\\site-packages (from spacy) (3.0.9)\n",
      "Requirement already satisfied: thinc<8.3.0,>=8.2.2 in c:\\users\\user\\anaconda3\\lib\\site-packages (from spacy) (8.2.3)\n",
      "Requirement already satisfied: wasabi<1.2.0,>=0.9.1 in c:\\users\\user\\anaconda3\\lib\\site-packages (from spacy) (1.1.2)\n",
      "Requirement already satisfied: srsly<3.0.0,>=2.4.3 in c:\\users\\user\\anaconda3\\lib\\site-packages (from spacy) (2.4.8)\n",
      "Requirement already satisfied: catalogue<2.1.0,>=2.0.6 in c:\\users\\user\\anaconda3\\lib\\site-packages (from spacy) (2.0.10)\n",
      "Requirement already satisfied: weasel<0.5.0,>=0.1.0 in c:\\users\\user\\anaconda3\\lib\\site-packages (from spacy) (0.3.4)\n",
      "Requirement already satisfied: typer<1.0.0,>=0.3.0 in c:\\users\\user\\anaconda3\\lib\\site-packages (from spacy) (0.9.4)\n",
      "Requirement already satisfied: tqdm<5.0.0,>=4.38.0 in c:\\users\\user\\anaconda3\\lib\\site-packages (from spacy) (4.65.0)\n",
      "Requirement already satisfied: requests<3.0.0,>=2.13.0 in c:\\users\\user\\anaconda3\\lib\\site-packages (from spacy) (2.31.0)\n",
      "Requirement already satisfied: pydantic!=1.8,!=1.8.1,<3.0.0,>=1.7.4 in c:\\users\\user\\anaconda3\\lib\\site-packages (from spacy) (1.10.8)\n",
      "Requirement already satisfied: jinja2 in c:\\users\\user\\anaconda3\\lib\\site-packages (from spacy) (3.1.2)\n",
      "Requirement already satisfied: setuptools in c:\\users\\user\\anaconda3\\lib\\site-packages (from spacy) (68.0.0)\n",
      "Requirement already satisfied: packaging>=20.0 in c:\\users\\user\\anaconda3\\lib\\site-packages (from spacy) (23.1)\n",
      "Requirement already satisfied: langcodes<4.0.0,>=3.2.0 in c:\\users\\user\\anaconda3\\lib\\site-packages (from spacy) (3.4.0)\n",
      "Requirement already satisfied: numpy>=1.19.0 in c:\\users\\user\\anaconda3\\lib\\site-packages (from spacy) (1.24.3)\n",
      "Requirement already satisfied: language-data>=1.2 in c:\\users\\user\\anaconda3\\lib\\site-packages (from langcodes<4.0.0,>=3.2.0->spacy) (1.2.0)\n",
      "Requirement already satisfied: typing-extensions>=4.2.0 in c:\\users\\user\\anaconda3\\lib\\site-packages (from pydantic!=1.8,!=1.8.1,<3.0.0,>=1.7.4->spacy) (4.7.1)\n",
      "Requirement already satisfied: charset-normalizer<4,>=2 in c:\\users\\user\\anaconda3\\lib\\site-packages (from requests<3.0.0,>=2.13.0->spacy) (2.0.4)\n",
      "Requirement already satisfied: idna<4,>=2.5 in c:\\users\\user\\anaconda3\\lib\\site-packages (from requests<3.0.0,>=2.13.0->spacy) (3.4)\n",
      "Requirement already satisfied: urllib3<3,>=1.21.1 in c:\\users\\user\\anaconda3\\lib\\site-packages (from requests<3.0.0,>=2.13.0->spacy) (1.26.16)\n",
      "Requirement already satisfied: certifi>=2017.4.17 in c:\\users\\user\\anaconda3\\lib\\site-packages (from requests<3.0.0,>=2.13.0->spacy) (2024.2.2)\n",
      "Requirement already satisfied: blis<0.8.0,>=0.7.8 in c:\\users\\user\\anaconda3\\lib\\site-packages (from thinc<8.3.0,>=8.2.2->spacy) (0.7.11)\n",
      "Requirement already satisfied: confection<1.0.0,>=0.0.1 in c:\\users\\user\\anaconda3\\lib\\site-packages (from thinc<8.3.0,>=8.2.2->spacy) (0.1.4)\n",
      "Requirement already satisfied: colorama in c:\\users\\user\\anaconda3\\lib\\site-packages (from tqdm<5.0.0,>=4.38.0->spacy) (0.4.6)\n",
      "Requirement already satisfied: click<9.0.0,>=7.1.1 in c:\\users\\user\\anaconda3\\lib\\site-packages (from typer<1.0.0,>=0.3.0->spacy) (8.0.4)\n",
      "Requirement already satisfied: cloudpathlib<0.17.0,>=0.7.0 in c:\\users\\user\\anaconda3\\lib\\site-packages (from weasel<0.5.0,>=0.1.0->spacy) (0.16.0)\n",
      "Requirement already satisfied: smart-open<7.0.0,>=5.2.1 in c:\\users\\user\\anaconda3\\lib\\site-packages (from weasel<0.5.0,>=0.1.0->spacy) (5.2.1)\n",
      "Requirement already satisfied: MarkupSafe>=2.0 in c:\\users\\user\\anaconda3\\lib\\site-packages (from jinja2->spacy) (2.1.1)\n",
      "Requirement already satisfied: marisa-trie>=0.7.7 in c:\\users\\user\\anaconda3\\lib\\site-packages (from language-data>=1.2->langcodes<4.0.0,>=3.2.0->spacy) (1.1.1)\n",
      "Requirement already satisfied: spacy in c:\\users\\user\\anaconda3\\lib\\site-packages (3.7.5)\n",
      "Requirement already satisfied: spacy-legacy<3.1.0,>=3.0.11 in c:\\users\\user\\anaconda3\\lib\\site-packages (from spacy) (3.0.12)\n",
      "Requirement already satisfied: spacy-loggers<2.0.0,>=1.0.0 in c:\\users\\user\\anaconda3\\lib\\site-packages (from spacy) (1.0.5)\n",
      "Requirement already satisfied: murmurhash<1.1.0,>=0.28.0 in c:\\users\\user\\anaconda3\\lib\\site-packages (from spacy) (1.0.10)\n",
      "Requirement already satisfied: cymem<2.1.0,>=2.0.2 in c:\\users\\user\\anaconda3\\lib\\site-packages (from spacy) (2.0.8)\n",
      "Requirement already satisfied: preshed<3.1.0,>=3.0.2 in c:\\users\\user\\anaconda3\\lib\\site-packages (from spacy) (3.0.9)\n",
      "Requirement already satisfied: thinc<8.3.0,>=8.2.2 in c:\\users\\user\\anaconda3\\lib\\site-packages (from spacy) (8.2.3)\n",
      "Requirement already satisfied: wasabi<1.2.0,>=0.9.1 in c:\\users\\user\\anaconda3\\lib\\site-packages (from spacy) (1.1.2)\n",
      "Requirement already satisfied: srsly<3.0.0,>=2.4.3 in c:\\users\\user\\anaconda3\\lib\\site-packages (from spacy) (2.4.8)\n",
      "Requirement already satisfied: catalogue<2.1.0,>=2.0.6 in c:\\users\\user\\anaconda3\\lib\\site-packages (from spacy) (2.0.10)\n",
      "Requirement already satisfied: weasel<0.5.0,>=0.1.0 in c:\\users\\user\\anaconda3\\lib\\site-packages (from spacy) (0.3.4)\n",
      "Requirement already satisfied: typer<1.0.0,>=0.3.0 in c:\\users\\user\\anaconda3\\lib\\site-packages (from spacy) (0.9.4)\n",
      "Requirement already satisfied: tqdm<5.0.0,>=4.38.0 in c:\\users\\user\\anaconda3\\lib\\site-packages (from spacy) (4.65.0)\n",
      "Requirement already satisfied: requests<3.0.0,>=2.13.0 in c:\\users\\user\\anaconda3\\lib\\site-packages (from spacy) (2.31.0)\n",
      "Requirement already satisfied: pydantic!=1.8,!=1.8.1,<3.0.0,>=1.7.4 in c:\\users\\user\\anaconda3\\lib\\site-packages (from spacy) (1.10.8)\n",
      "Requirement already satisfied: jinja2 in c:\\users\\user\\anaconda3\\lib\\site-packages (from spacy) (3.1.2)\n",
      "Requirement already satisfied: setuptools in c:\\users\\user\\anaconda3\\lib\\site-packages (from spacy) (68.0.0)\n",
      "Requirement already satisfied: packaging>=20.0 in c:\\users\\user\\anaconda3\\lib\\site-packages (from spacy) (23.1)\n",
      "Requirement already satisfied: langcodes<4.0.0,>=3.2.0 in c:\\users\\user\\anaconda3\\lib\\site-packages (from spacy) (3.4.0)\n",
      "Requirement already satisfied: numpy>=1.19.0 in c:\\users\\user\\anaconda3\\lib\\site-packages (from spacy) (1.24.3)\n",
      "Requirement already satisfied: language-data>=1.2 in c:\\users\\user\\anaconda3\\lib\\site-packages (from langcodes<4.0.0,>=3.2.0->spacy) (1.2.0)\n",
      "Requirement already satisfied: typing-extensions>=4.2.0 in c:\\users\\user\\anaconda3\\lib\\site-packages (from pydantic!=1.8,!=1.8.1,<3.0.0,>=1.7.4->spacy) (4.7.1)\n",
      "Requirement already satisfied: charset-normalizer<4,>=2 in c:\\users\\user\\anaconda3\\lib\\site-packages (from requests<3.0.0,>=2.13.0->spacy) (2.0.4)\n",
      "Requirement already satisfied: idna<4,>=2.5 in c:\\users\\user\\anaconda3\\lib\\site-packages (from requests<3.0.0,>=2.13.0->spacy) (3.4)\n",
      "Requirement already satisfied: urllib3<3,>=1.21.1 in c:\\users\\user\\anaconda3\\lib\\site-packages (from requests<3.0.0,>=2.13.0->spacy) (1.26.16)\n",
      "Requirement already satisfied: certifi>=2017.4.17 in c:\\users\\user\\anaconda3\\lib\\site-packages (from requests<3.0.0,>=2.13.0->spacy) (2024.2.2)\n",
      "Requirement already satisfied: blis<0.8.0,>=0.7.8 in c:\\users\\user\\anaconda3\\lib\\site-packages (from thinc<8.3.0,>=8.2.2->spacy) (0.7.11)\n",
      "Requirement already satisfied: confection<1.0.0,>=0.0.1 in c:\\users\\user\\anaconda3\\lib\\site-packages (from thinc<8.3.0,>=8.2.2->spacy) (0.1.4)\n",
      "Requirement already satisfied: colorama in c:\\users\\user\\anaconda3\\lib\\site-packages (from tqdm<5.0.0,>=4.38.0->spacy) (0.4.6)\n",
      "Requirement already satisfied: click<9.0.0,>=7.1.1 in c:\\users\\user\\anaconda3\\lib\\site-packages (from typer<1.0.0,>=0.3.0->spacy) (8.0.4)\n",
      "Requirement already satisfied: cloudpathlib<0.17.0,>=0.7.0 in c:\\users\\user\\anaconda3\\lib\\site-packages (from weasel<0.5.0,>=0.1.0->spacy) (0.16.0)\n",
      "Requirement already satisfied: smart-open<7.0.0,>=5.2.1 in c:\\users\\user\\anaconda3\\lib\\site-packages (from weasel<0.5.0,>=0.1.0->spacy) (5.2.1)\n",
      "Requirement already satisfied: MarkupSafe>=2.0 in c:\\users\\user\\anaconda3\\lib\\site-packages (from jinja2->spacy) (2.1.1)\n",
      "Requirement already satisfied: marisa-trie>=0.7.7 in c:\\users\\user\\anaconda3\\lib\\site-packages (from language-data>=1.2->langcodes<4.0.0,>=3.2.0->spacy) (1.1.1)\n",
      "Requirement already satisfied: pandas in c:\\users\\user\\anaconda3\\lib\\site-packages (2.0.3)\n",
      "Requirement already satisfied: python-dateutil>=2.8.2 in c:\\users\\user\\anaconda3\\lib\\site-packages (from pandas) (2.8.2)\n",
      "Requirement already satisfied: pytz>=2020.1 in c:\\users\\user\\anaconda3\\lib\\site-packages (from pandas) (2023.3.post1)\n",
      "Requirement already satisfied: tzdata>=2022.1 in c:\\users\\user\\anaconda3\\lib\\site-packages (from pandas) (2023.3)\n",
      "Requirement already satisfied: numpy>=1.21.0 in c:\\users\\user\\anaconda3\\lib\\site-packages (from pandas) (1.24.3)\n",
      "Requirement already satisfied: six>=1.5 in c:\\users\\user\\anaconda3\\lib\\site-packages (from python-dateutil>=2.8.2->pandas) (1.16.0)\n",
      "Collecting en-core-web-sm==3.7.1\n",
      "  Downloading https://github.com/explosion/spacy-models/releases/download/en_core_web_sm-3.7.1/en_core_web_sm-3.7.1-py3-none-any.whl (12.8 MB)\n",
      "     ---------------------------------------- 0.0/12.8 MB ? eta -:--:--\n",
      "     ---------------------------------------- 0.0/12.8 MB ? eta -:--:--\n",
      "     --------------------------------------- 0.1/12.8 MB 544.7 kB/s eta 0:00:24\n",
      "     --------------------------------------- 0.1/12.8 MB 655.4 kB/s eta 0:00:20\n",
      "     --------------------------------------- 0.1/12.8 MB 708.1 kB/s eta 0:00:18\n",
      "      --------------------------------------- 0.3/12.8 MB 1.0 MB/s eta 0:00:12\n",
      "     - -------------------------------------- 0.4/12.8 MB 1.3 MB/s eta 0:00:10\n",
      "     - -------------------------------------- 0.6/12.8 MB 1.7 MB/s eta 0:00:08\n",
      "     --- ------------------------------------ 1.0/12.8 MB 2.6 MB/s eta 0:00:05\n",
      "     --- ------------------------------------ 1.1/12.8 MB 2.8 MB/s eta 0:00:05\n",
      "     ------ --------------------------------- 2.0/12.8 MB 4.3 MB/s eta 0:00:03\n",
      "     ------- -------------------------------- 2.5/12.8 MB 4.8 MB/s eta 0:00:03\n",
      "     ---------- ----------------------------- 3.4/12.8 MB 6.1 MB/s eta 0:00:02\n",
      "     ------------ --------------------------- 4.1/12.8 MB 6.7 MB/s eta 0:00:02\n",
      "     --------------- ------------------------ 5.0/12.8 MB 7.6 MB/s eta 0:00:02\n",
      "     ------------------ --------------------- 6.0/12.8 MB 8.5 MB/s eta 0:00:01\n",
      "     --------------------- ------------------ 6.8/12.8 MB 9.1 MB/s eta 0:00:01\n",
      "     ------------------------ --------------- 7.8/12.8 MB 9.7 MB/s eta 0:00:01\n",
      "     -------------------------- ------------- 8.6/12.8 MB 10.2 MB/s eta 0:00:01\n",
      "     ----------------------------- ---------- 9.5/12.8 MB 10.7 MB/s eta 0:00:01\n",
      "     ------------------------------- ------- 10.3/12.8 MB 13.4 MB/s eta 0:00:01\n",
      "     ----------------------------------- --- 11.6/12.8 MB 18.7 MB/s eta 0:00:01\n",
      "     ------------------------------------- - 12.4/12.8 MB 19.2 MB/s eta 0:00:01\n",
      "     --------------------------------------  12.8/12.8 MB 19.3 MB/s eta 0:00:01\n",
      "     --------------------------------------- 12.8/12.8 MB 16.8 MB/s eta 0:00:00\n",
      "Requirement already satisfied: spacy<3.8.0,>=3.7.2 in c:\\users\\user\\anaconda3\\lib\\site-packages (from en-core-web-sm==3.7.1) (3.7.5)\n",
      "Requirement already satisfied: spacy-legacy<3.1.0,>=3.0.11 in c:\\users\\user\\anaconda3\\lib\\site-packages (from spacy<3.8.0,>=3.7.2->en-core-web-sm==3.7.1) (3.0.12)\n",
      "Requirement already satisfied: spacy-loggers<2.0.0,>=1.0.0 in c:\\users\\user\\anaconda3\\lib\\site-packages (from spacy<3.8.0,>=3.7.2->en-core-web-sm==3.7.1) (1.0.5)\n",
      "Requirement already satisfied: murmurhash<1.1.0,>=0.28.0 in c:\\users\\user\\anaconda3\\lib\\site-packages (from spacy<3.8.0,>=3.7.2->en-core-web-sm==3.7.1) (1.0.10)\n",
      "Requirement already satisfied: cymem<2.1.0,>=2.0.2 in c:\\users\\user\\anaconda3\\lib\\site-packages (from spacy<3.8.0,>=3.7.2->en-core-web-sm==3.7.1) (2.0.8)\n",
      "Requirement already satisfied: preshed<3.1.0,>=3.0.2 in c:\\users\\user\\anaconda3\\lib\\site-packages (from spacy<3.8.0,>=3.7.2->en-core-web-sm==3.7.1) (3.0.9)\n",
      "Requirement already satisfied: thinc<8.3.0,>=8.2.2 in c:\\users\\user\\anaconda3\\lib\\site-packages (from spacy<3.8.0,>=3.7.2->en-core-web-sm==3.7.1) (8.2.3)\n",
      "Requirement already satisfied: wasabi<1.2.0,>=0.9.1 in c:\\users\\user\\anaconda3\\lib\\site-packages (from spacy<3.8.0,>=3.7.2->en-core-web-sm==3.7.1) (1.1.2)\n",
      "Requirement already satisfied: srsly<3.0.0,>=2.4.3 in c:\\users\\user\\anaconda3\\lib\\site-packages (from spacy<3.8.0,>=3.7.2->en-core-web-sm==3.7.1) (2.4.8)\n",
      "Requirement already satisfied: catalogue<2.1.0,>=2.0.6 in c:\\users\\user\\anaconda3\\lib\\site-packages (from spacy<3.8.0,>=3.7.2->en-core-web-sm==3.7.1) (2.0.10)\n",
      "Requirement already satisfied: weasel<0.5.0,>=0.1.0 in c:\\users\\user\\anaconda3\\lib\\site-packages (from spacy<3.8.0,>=3.7.2->en-core-web-sm==3.7.1) (0.3.4)\n",
      "Requirement already satisfied: typer<1.0.0,>=0.3.0 in c:\\users\\user\\anaconda3\\lib\\site-packages (from spacy<3.8.0,>=3.7.2->en-core-web-sm==3.7.1) (0.9.4)\n",
      "Requirement already satisfied: tqdm<5.0.0,>=4.38.0 in c:\\users\\user\\anaconda3\\lib\\site-packages (from spacy<3.8.0,>=3.7.2->en-core-web-sm==3.7.1) (4.65.0)\n",
      "Requirement already satisfied: requests<3.0.0,>=2.13.0 in c:\\users\\user\\anaconda3\\lib\\site-packages (from spacy<3.8.0,>=3.7.2->en-core-web-sm==3.7.1) (2.31.0)\n",
      "Requirement already satisfied: pydantic!=1.8,!=1.8.1,<3.0.0,>=1.7.4 in c:\\users\\user\\anaconda3\\lib\\site-packages (from spacy<3.8.0,>=3.7.2->en-core-web-sm==3.7.1) (1.10.8)\n",
      "Requirement already satisfied: jinja2 in c:\\users\\user\\anaconda3\\lib\\site-packages (from spacy<3.8.0,>=3.7.2->en-core-web-sm==3.7.1) (3.1.2)\n",
      "Requirement already satisfied: setuptools in c:\\users\\user\\anaconda3\\lib\\site-packages (from spacy<3.8.0,>=3.7.2->en-core-web-sm==3.7.1) (68.0.0)\n",
      "Requirement already satisfied: packaging>=20.0 in c:\\users\\user\\anaconda3\\lib\\site-packages (from spacy<3.8.0,>=3.7.2->en-core-web-sm==3.7.1) (23.1)\n",
      "Requirement already satisfied: langcodes<4.0.0,>=3.2.0 in c:\\users\\user\\anaconda3\\lib\\site-packages (from spacy<3.8.0,>=3.7.2->en-core-web-sm==3.7.1) (3.4.0)\n",
      "Requirement already satisfied: numpy>=1.19.0 in c:\\users\\user\\anaconda3\\lib\\site-packages (from spacy<3.8.0,>=3.7.2->en-core-web-sm==3.7.1) (1.24.3)\n",
      "Requirement already satisfied: language-data>=1.2 in c:\\users\\user\\anaconda3\\lib\\site-packages (from langcodes<4.0.0,>=3.2.0->spacy<3.8.0,>=3.7.2->en-core-web-sm==3.7.1) (1.2.0)\n",
      "Requirement already satisfied: typing-extensions>=4.2.0 in c:\\users\\user\\anaconda3\\lib\\site-packages (from pydantic!=1.8,!=1.8.1,<3.0.0,>=1.7.4->spacy<3.8.0,>=3.7.2->en-core-web-sm==3.7.1) (4.7.1)\n",
      "Requirement already satisfied: charset-normalizer<4,>=2 in c:\\users\\user\\anaconda3\\lib\\site-packages (from requests<3.0.0,>=2.13.0->spacy<3.8.0,>=3.7.2->en-core-web-sm==3.7.1) (2.0.4)\n",
      "Requirement already satisfied: idna<4,>=2.5 in c:\\users\\user\\anaconda3\\lib\\site-packages (from requests<3.0.0,>=2.13.0->spacy<3.8.0,>=3.7.2->en-core-web-sm==3.7.1) (3.4)\n",
      "Requirement already satisfied: urllib3<3,>=1.21.1 in c:\\users\\user\\anaconda3\\lib\\site-packages (from requests<3.0.0,>=2.13.0->spacy<3.8.0,>=3.7.2->en-core-web-sm==3.7.1) (1.26.16)\n",
      "Requirement already satisfied: certifi>=2017.4.17 in c:\\users\\user\\anaconda3\\lib\\site-packages (from requests<3.0.0,>=2.13.0->spacy<3.8.0,>=3.7.2->en-core-web-sm==3.7.1) (2024.2.2)\n",
      "Requirement already satisfied: blis<0.8.0,>=0.7.8 in c:\\users\\user\\anaconda3\\lib\\site-packages (from thinc<8.3.0,>=8.2.2->spacy<3.8.0,>=3.7.2->en-core-web-sm==3.7.1) (0.7.11)\n",
      "Requirement already satisfied: confection<1.0.0,>=0.0.1 in c:\\users\\user\\anaconda3\\lib\\site-packages (from thinc<8.3.0,>=8.2.2->spacy<3.8.0,>=3.7.2->en-core-web-sm==3.7.1) (0.1.4)\n",
      "Requirement already satisfied: colorama in c:\\users\\user\\anaconda3\\lib\\site-packages (from tqdm<5.0.0,>=4.38.0->spacy<3.8.0,>=3.7.2->en-core-web-sm==3.7.1) (0.4.6)\n",
      "Requirement already satisfied: click<9.0.0,>=7.1.1 in c:\\users\\user\\anaconda3\\lib\\site-packages (from typer<1.0.0,>=0.3.0->spacy<3.8.0,>=3.7.2->en-core-web-sm==3.7.1) (8.0.4)\n",
      "Requirement already satisfied: cloudpathlib<0.17.0,>=0.7.0 in c:\\users\\user\\anaconda3\\lib\\site-packages (from weasel<0.5.0,>=0.1.0->spacy<3.8.0,>=3.7.2->en-core-web-sm==3.7.1) (0.16.0)\n",
      "Requirement already satisfied: smart-open<7.0.0,>=5.2.1 in c:\\users\\user\\anaconda3\\lib\\site-packages (from weasel<0.5.0,>=0.1.0->spacy<3.8.0,>=3.7.2->en-core-web-sm==3.7.1) (5.2.1)\n",
      "Requirement already satisfied: MarkupSafe>=2.0 in c:\\users\\user\\anaconda3\\lib\\site-packages (from jinja2->spacy<3.8.0,>=3.7.2->en-core-web-sm==3.7.1) (2.1.1)\n",
      "Requirement already satisfied: marisa-trie>=0.7.7 in c:\\users\\user\\anaconda3\\lib\\site-packages (from language-data>=1.2->langcodes<4.0.0,>=3.2.0->spacy<3.8.0,>=3.7.2->en-core-web-sm==3.7.1) (1.1.1)\n",
      "\u001b[38;5;2m[+] Download and installation successful\u001b[0m\n",
      "You can now load the package via spacy.load('en_core_web_sm')\n"
     ]
    }
   ],
   "source": [
    "!pip install nltk\n",
    "!pip install beautifulsoup4\n",
    "!pip install spacy\n",
    "!pip install -U spacy\n",
    "\n",
    "!pip install pandas\n",
    "!python -m spacy download en_core_web_sm"
   ]
  },
  {
   "cell_type": "code",
   "execution_count": 22,
   "id": "4b604b7b-335c-4259-841d-e7d62eaa7b1f",
   "metadata": {},
   "outputs": [
    {
     "name": "stderr",
     "output_type": "stream",
     "text": [
      "[nltk_data] Downloading package punkt to\n",
      "[nltk_data]     C:\\Users\\USER\\AppData\\Roaming\\nltk_data...\n",
      "[nltk_data]   Package punkt is already up-to-date!\n",
      "[nltk_data] Downloading package wordnet to\n",
      "[nltk_data]     C:\\Users\\USER\\AppData\\Roaming\\nltk_data...\n",
      "[nltk_data]   Package wordnet is already up-to-date!\n"
     ]
    },
    {
     "data": {
      "text/plain": [
       "True"
      ]
     },
     "execution_count": 22,
     "metadata": {},
     "output_type": "execute_result"
    }
   ],
   "source": [
    "import pandas as pd\n",
    "from collections import Counter\n",
    "import nltk\n",
    "from nltk.stem import SnowballStemmer\n",
    "from nltk.tokenize import word_tokenize\n",
    "from nltk.stem import WordNetLemmatizer\n",
    "from nltk.stem import PorterStemmer\n",
    "import matplotlib.pyplot as plt\n",
    "import seaborn as sns\n",
    "import time\n",
    "import string\n",
    "import spacy\n",
    "from spacy.tokenizer import Tokenizer\n",
    "from spacy.lang.en import English\n",
    "import requests\n",
    "from bs4 import BeautifulSoup\n",
    "nltk.download('punkt')\n",
    "nltk.download('wordnet')"
   ]
  },
  {
   "cell_type": "markdown",
   "id": "2c9ca784-345f-4fba-83c2-ad51d9b0308d",
   "metadata": {},
   "source": [
    "# Data Loading & Basic Analysis\r",
    ". Load the spam.csv dataset (source: KAGGLE)5. Print basic statistics on the data:\r\n",
    " - Total number of SMS messages\r\n",
    " - Number of spam/ham messages\r\n",
    " - Average number of words per message \r\n",
    " - 5 most frequent words\r\n",
    " - Number of words that only appear once"
   ]
  },
  {
   "cell_type": "code",
   "execution_count": 23,
   "id": "af3c8f32-da3c-4d82-967d-64bf5ccfef7f",
   "metadata": {},
   "outputs": [
    {
     "name": "stdout",
     "output_type": "stream",
     "text": [
      "<class 'pandas.core.frame.DataFrame'>\n",
      "RangeIndex: 5572 entries, 0 to 5571\n",
      "Data columns (total 2 columns):\n",
      " #   Column   Non-Null Count  Dtype \n",
      "---  ------   --------------  ----- \n",
      " 0   label    5572 non-null   object\n",
      " 1   message  5572 non-null   object\n",
      "dtypes: object(2)\n",
      "memory usage: 87.2+ KB\n",
      "  label                                            message\n",
      "0   ham  Go until jurong point, crazy.. Available only ...\n",
      "1   ham                      Ok lar... Joking wif u oni...\n",
      "2  spam  Free entry in 2 a wkly comp to win FA Cup fina...\n",
      "3   ham  U dun say so early hor... U c already then say...\n",
      "4   ham  Nah I don't think he goes to usf, he lives aro...\n",
      "Index(['label', 'message'], dtype='object')\n",
      "Total number of SMS messages: 5572\n",
      "Number of spam messages: 747\n",
      "Number of ham messages: 4825\n"
     ]
    },
    {
     "data": {
      "image/png": "[encoded data removed]",
      "text/plain": [
       "<Figure size 600x400 with 1 Axes>"
      ]
     },
     "metadata": {},
     "output_type": "display_data"
    },
    {
     "name": "stdout",
     "output_type": "stream",
     "text": [
      "Average number of words per message: 15.49\n"
     ]
    },
    {
     "data": {
      "image/png": "[encoded data removed]",
      "text/plain": [
       "<Figure size 1000x600 with 1 Axes>"
      ]
     },
     "metadata": {},
     "output_type": "display_data"
    },
    {
     "name": "stdout",
     "output_type": "stream",
     "text": [
      "Total number of words: 86335\n",
      "Top 5 most frequent words:\n",
      "to: 2134\n",
      "you: 1622\n",
      "I: 1466\n",
      "a: 1327\n",
      "the: 1197\n"
     ]
    },
    {
     "data": {
      "image/png": "[encoded data removed]",
      "text/plain": [
       "<Figure size 800x500 with 1 Axes>"
      ]
     },
     "metadata": {},
     "output_type": "display_data"
    },
    {
     "name": "stdout",
     "output_type": "stream",
     "text": [
      "Number of words that appear only once: 9268\n",
      "Total number of SMS messages: 5572\n",
      "Number of spam messages: 747\n",
      "Number of ham messages: 4825\n",
      "Average number of words per message: 15.49\n",
      "Five most frequent words: [('to', 2134), ('you', 1622), ('I', 1466), ('a', 1327), ('the', 1197)]\n",
      "Number of words that appear only once: 9268\n"
     ]
    }
   ],
   "source": [
    "def inspect_dataframe(df):\n",
    "    \"\"\"Inspect the DataFrame structure.\"\"\"\n",
    "    print(df.head())\n",
    "    print(df.columns)\n",
    "\n",
    "def total_sms_messages(df):\n",
    "    \"\"\"Calculate and print the total number of SMS messages.\"\"\"\n",
    "    total_messages = len(df)\n",
    "    print(f\"Total number of SMS messages: {total_messages}\")\n",
    "    return total_messages\n",
    "\n",
    "def spam_vs_ham_counts(df):\n",
    "    \"\"\"Calculate and print the number of spam and ham messages.\"\"\"\n",
    "    num_spam = df[df['label'] == 'spam'].shape[0]\n",
    "    num_ham = df[df['label'] == 'ham'].shape[0]\n",
    "    print(f\"Number of spam messages: {num_spam}\")\n",
    "    print(f\"Number of ham messages: {num_ham}\")\n",
    "    return num_spam, num_ham\n",
    "\n",
    "def plot_spam_vs_ham_distribution(df):\n",
    "    \"\"\"Plot the distribution of spam vs. ham messages.\"\"\"\n",
    "    plt.figure(figsize=(6, 4))\n",
    "    sns.countplot(data=df, x='label')\n",
    "    plt.title('Spam vs. Ham Messages')\n",
    "    plt.xlabel('Message Type')\n",
    "    plt.ylabel('Count')\n",
    "    plt.show()\n",
    "\n",
    "def average_words_per_message(df):\n",
    "    \"\"\"Calculate and print the average number of words per message.\"\"\"\n",
    "    df['word_count'] = df['message'].apply(lambda x: len(x.split()))\n",
    "    average_words = df['word_count'].mean()\n",
    "    print(f\"Average number of words per message: {average_words:.2f}\")\n",
    "    return average_words\n",
    "\n",
    "def plot_word_count_distribution(df):\n",
    "    \"\"\"Plot the distribution of word counts in the messages.\"\"\"\n",
    "    plt.figure(figsize=(10, 6))\n",
    "    sns.histplot(df['word_count'], kde=True, bins=30)\n",
    "    plt.title('Message Word Count Distribution')\n",
    "    plt.xlabel('Word Count')\n",
    "    plt.ylabel('Frequency')\n",
    "    plt.show()\n",
    "\n",
    "\n",
    "def most_frequent_words_and_total_word_count(words, n=5):\n",
    "    \"\"\"Calculate and print the n most frequent words.\"\"\"\n",
    "    # Count the total number of words\n",
    "    total_words = len(words)\n",
    "    # Print the total number of words\n",
    "    print(f\"Total number of words: {total_words}\") \n",
    "    # Count the frequency of each word in the list\n",
    "    word_counts = Counter(words) \n",
    "    # Get the n most common words\n",
    "    most_common_words = word_counts.most_common(n)    \n",
    "     # Print the top n most frequent words\n",
    "    print(f\"Top {n} most frequent words:\")\n",
    "    for word, count in most_common_words:\n",
    "         print(f\"{word}: {count}\")\n",
    "    return most_common_words\n",
    "\n",
    "\n",
    "def plot_most_frequent_words(most_common_words):\n",
    "    \"\"\"Plot the most frequent words.\"\"\"\n",
    "    common_words_df = pd.DataFrame(most_common_words, columns=['word', 'count'])\n",
    "    plt.figure(figsize=(8, 5))\n",
    "    sns.barplot(data=common_words_df, x='count', y='word')\n",
    "    plt.title('Most Frequent Words')\n",
    "    plt.xlabel('Count')\n",
    "    plt.ylabel('Word')\n",
    "    plt.show()\n",
    "\n",
    "def words_appearing_once(df):\n",
    "    \"\"\"Calculate and print the number of words that appear only once.\"\"\"\n",
    "    all_words = ' '.join(df['message']).split()\n",
    "    word_counts = Counter(all_words)\n",
    "    words_once = [word for word, count in word_counts.items() if count == 1]\n",
    "    num_words_once = len(words_once)\n",
    "    print(f\"Number of words that appear only once: {num_words_once}\")\n",
    "    return num_words_once\n",
    "\n",
    "# Load the dataset\n",
    "file_path = r\"C:\\Users\\USER\\Downloads\\spam (1).csv\"\n",
    "df = pd.read_csv(file_path, encoding='latin1')\n",
    "df = df.rename(columns={'v1': 'label', 'v2': 'message'})\n",
    "df = df[['label', 'message']]\n",
    "df.info()\n",
    "# Function calls\n",
    "inspect_dataframe(df)\n",
    "total_messages = total_sms_messages(df)\n",
    "num_spam, num_ham = spam_vs_ham_counts(df)\n",
    "plot_spam_vs_ham_distribution(df)\n",
    "average_words = average_words_per_message(df)\n",
    "plot_word_count_distribution(df)\n",
    "all_words = ' '.join(df['message']).split()\n",
    "most_common_words = most_frequent_words_and_total_word_count(all_words)\n",
    "plot_most_frequent_words(most_common_words)\n",
    "num_words_once = words_appearing_once(df)\n",
    "\n",
    "# Summary\n",
    "print(f\"Total number of SMS messages: {total_messages}\")\n",
    "print(f\"Number of spam messages: {num_spam}\")\n",
    "print(f\"Number of ham messages: {num_ham}\")\n",
    "print(f\"Average number of words per message: {average_words:.2f}\")\n",
    "print(\"Five most frequent words:\", most_common_words)\n",
    "print(f\"Number of words that appear only once: {num_words_once}\")\n"
   ]
  },
  {
   "cell_type": "markdown",
   "id": "22eb8ccc-781b-4588-b966-920b8e19720e",
   "metadata": {},
   "source": [
    " ## **Text Processing**\n",
    " "
   ]
  },
  {
   "cell_type": "code",
   "execution_count": 24,
   "id": "2c99523c-7119-4e24-8903-2e06891bdc7a",
   "metadata": {},
   "outputs": [
    {
     "name": "stdout",
     "output_type": "stream",
     "text": [
      "NLTK tokenize time: 1.4604229927062988 seconds\n",
      "['Go', 'until', 'jurong', 'point', 'crazy', '..', 'Available', 'only', 'in', 'bugis', 'n', 'great', 'world', 'la', 'e', 'buffet', '...', 'Cine', 'there', 'got', 'amore', 'wat', '...', 'Ok', 'lar', '...', 'Joking', 'wif', 'u', 'oni', '...', 'Free', 'entry', 'in', '2', 'a', 'wkly', 'comp', 'to', 'win', 'FA', 'Cup', 'final', 'tkts', '21st', 'May', '2005', 'Text', 'FA', 'to', '87121', 'to', 'receive', 'entry', 'question', 'std', 'txt', 'rate', 'T', 'C', \"'s\", 'apply', '08452810075over18', \"'s\", 'U', 'dun', 'say', 'so', 'early', 'hor', '...', 'U', 'c', 'already', 'then', 'say', '...', 'Nah', 'I', 'do', \"n't\", 'think', 'he', 'goes', 'to', 'usf', 'he', 'lives', 'around', 'here', 'though', 'FreeMsg', 'Hey', 'there', 'darling', 'it', \"'s\", 'been', '3', 'week', \"'s\", 'now', 'and', 'no', 'word', 'back', 'I', \"'d\", 'like', 'some', 'fun', 'you', 'up', 'for', 'it', 'still', 'Tb', 'ok', 'XxX', 'std', 'chgs', 'to', 'send', 'å£1.50', 'to', 'rcv', 'Even', 'my', 'brother', 'is', 'not', 'like', 'to', 'speak', 'with', 'me', 'They', 'treat', 'me', 'like', 'aids', 'patent', 'As', 'per', 'your', 'request', \"'Melle\", 'Melle', 'Oru', 'Minnaminunginte', 'Nurungu', 'Vettam', 'has', 'been', 'set', 'as', 'your', 'callertune', 'for', 'all', 'Callers', 'Press', '9', 'to', 'copy', 'your', 'friends', 'Callertune', 'WINNER', 'As', 'a', 'valued', 'network', 'customer', 'you', 'have', 'been', 'selected', 'to', 'receivea', 'å£900', 'prize', 'reward', 'To', 'claim', 'call', '09061701461', 'Claim', 'code', 'KL341', 'Valid', '12', 'hours', 'only', 'Had', 'your', 'mobile', '11', 'months', 'or']\n",
      "Total number of words: 90391\n",
      "Top 5 most frequent words:\n",
      "to: 2148\n",
      "I: 1956\n",
      "you: 1888\n",
      "a: 1329\n",
      "the: 1200\n",
      "--------------------------\n",
      "spaCy tokenize time: 0.8277060985565186 seconds\n",
      "['Go', 'until', 'jurong', 'point,', 'crazy..', 'Available', 'only', 'in', 'bugis', 'n', 'great', 'world', 'la', 'e', 'buffet...', 'Cine', 'there', 'got', 'amore', 'wat...', 'Ok', 'lar...', 'Joking', 'wif', 'u', 'oni...', 'Free', 'entry', 'in', '2', 'a', 'wkly', 'comp', 'to', 'win', 'FA', 'Cup', 'final', 'tkts', '21st', 'May', '2005.', 'Text', 'FA', 'to', '87121', 'to', 'receive', 'entry', 'question(std', 'txt', \"rate)T&C's\", 'apply', \"08452810075over18's\", 'U', 'dun', 'say', 'so', 'early', 'hor...', 'U', 'c', 'already', 'then', 'say...', 'Nah', 'I', \"don't\", 'think', 'he', 'goes', 'to', 'usf,', 'he', 'lives', 'around', 'here', 'though', 'FreeMsg', 'Hey', 'there', 'darling', \"it's\", 'been', '3', \"week's\", 'now', 'and', 'no', 'word', 'back!', \"I'd\", 'like', 'some', 'fun', 'you', 'up', 'for', 'it', 'still?', 'Tb', 'ok!', 'XxX', 'std', 'chgs', 'to', 'send,', 'å£1.50', 'to', 'rcv', 'Even', 'my', 'brother', 'is', 'not', 'like', 'to', 'speak', 'with', 'me.', 'They', 'treat', 'me', 'like', 'aids', 'patent.', 'As', 'per', 'your', 'request', \"'Melle\", 'Melle', '(Oru', 'Minnaminunginte', 'Nurungu', \"Vettam)'\", 'has', 'been', 'set', 'as', 'your', 'callertune', 'for', 'all', 'Callers.', 'Press', '*9', 'to', 'copy', 'your', 'friends', 'Callertune', 'WINNER!!', 'As', 'a', 'valued', 'network', 'customer', 'you', 'have', 'been', 'selected', 'to', 'receivea', 'å£900', 'prize', 'reward!', 'To', 'claim', 'call', '09061701461.', 'Claim', 'code', 'KL341.', 'Valid', '12', 'hours', 'only.', 'Had', 'your', 'mobile', '11', 'months', 'or', 'more?', 'U', 'R', 'entitled', 'to', 'Update', 'to', 'the', 'latest', 'colour', 'mobiles', 'with', 'camera', 'for', 'Free!', 'Call']\n",
      "Total number of words: 86960\n",
      "Top 5 most frequent words:\n",
      "to: 2134\n",
      "you: 1622\n",
      "I: 1466\n",
      "a: 1327\n",
      "the: 1197\n"
     ]
    }
   ],
   "source": [
    "def tokenize_with_nltk(text):\n",
    "    # Measure the start time\n",
    "    start_time = time.time()\n",
    "\n",
    "    # Tokenize the text using NLTK\n",
    "    tokens = nltk.word_tokenize(text)\n",
    "\n",
    "    # Filter out punctuation\n",
    "    tokens = [token for token in tokens if token not in string.punctuation]\n",
    "\n",
    "    # Measure the end time\n",
    "    end_time = time.time()\n",
    "\n",
    "    # Print the execution time\n",
    "    print(\"NLTK tokenize time:\", end_time - start_time, \"seconds\")\n",
    "\n",
    "    return tokens\n",
    "\n",
    "def tokenize_with_spacy(text):\n",
    "    # Initialize spaCy's English language model\n",
    "    nlp = English()\n",
    "    tokenizer_spacy = Tokenizer(nlp.vocab)\n",
    "\n",
    "    # Measure the start time\n",
    "    start_time = time.time()\n",
    "\n",
    "    # Tokenize the text using spaCy\n",
    "    tokens = [token.text for token in tokenizer_spacy(text)]\n",
    "\n",
    "    # Measure the end time\n",
    "    end_time = time.time()\n",
    "\n",
    "    # Print the execution time\n",
    "    print(\"spaCy tokenize time:\", end_time - start_time, \"seconds\")\n",
    "\n",
    "    return tokens\n",
    "\n",
    "# Example usage:\n",
    "text = df['message'].str.cat(sep=' ')\n",
    "tokens_nltk = tokenize_with_nltk(text)\n",
    "print(tokens_nltk[:200])\n",
    "most_common_words = most_frequent_words_and_total_word_count(tokens_nltk)\n",
    "\n",
    "print(\"--------------------------\")\n",
    "tokens_spacy = tokenize_with_spacy(text)\n",
    "print(tokens_spacy[:200])\n",
    "most_common_words = most_frequent_words_and_total_word_count(tokens_spacy)\n"
   ]
  },
  {
   "cell_type": "markdown",
   "id": "a774bee0-ce17-4cc2-a114-1f4ff975d23a",
   "metadata": {},
   "source": [
    "We see that spaCy is much more efficient and less time consuming. We suppose that one of the reasons for that is the nature of spaCy, since its rules are more efficient and optimized for speed. Logically, time speed for both methods is O(n).\n",
    "We also see that the output is slightly different for nltk and spaCy. For example, in nltk we have \"do\" and \"n't\" as a separate token while in spaCy it 1 token."
   ]
  },
  {
   "cell_type": "markdown",
   "id": "a14ce119-69ac-4be5-bd30-e8daa31f1f67",
   "metadata": {},
   "source": [
    " **NLTK Lemmatization**"
   ]
  },
  {
   "cell_type": "code",
   "execution_count": 25,
   "id": "8a3cb493-78f7-495c-ada7-60ac66904260",
   "metadata": {},
   "outputs": [
    {
     "name": "stdout",
     "output_type": "stream",
     "text": [
      "NLTK lemmatization time: 2.0599260330200195 seconds\n",
      "['Go', 'until', 'jurong', 'point', 'crazy', '..', 'Available', 'only', 'in', 'bugis', 'n', 'great', 'world', 'la', 'e', 'buffet', '...', 'Cine', 'there', 'got', 'amore', 'wat', '...', 'Ok', 'lar', '...', 'Joking', 'wif', 'u', 'oni', '...', 'Free', 'entry', 'in', '2', 'a', 'wkly', 'comp', 'to', 'win', 'FA', 'Cup', 'final', 'tkts', '21st', 'May', '2005', 'Text', 'FA', 'to', '87121', 'to', 'receive', 'entry', 'question', 'std', 'txt', 'rate', 'T', 'C', \"'s\", 'apply', '08452810075over18', \"'s\", 'U', 'dun', 'say', 'so', 'early', 'hor', '...', 'U', 'c', 'already', 'then', 'say', '...', 'Nah', 'I', 'do', \"n't\", 'think', 'he', 'go', 'to', 'usf', 'he', 'life', 'around', 'here', 'though', 'FreeMsg', 'Hey', 'there', 'darling', 'it', \"'s\", 'been', '3', 'week']\n",
      "Total number of words: 90391\n",
      "Top 5 most frequent words:\n",
      "to: 2148\n",
      "I: 1956\n",
      "you: 1888\n",
      "a: 1467\n",
      "the: 1200\n"
     ]
    }
   ],
   "source": [
    "def lemmatize_text(text):\n",
    "    # Initialize WordNet Lemmatizer\n",
    "    lemmatizer = WordNetLemmatizer()\n",
    "\n",
    "    # Measure the start time\n",
    "    start_time = time.time()\n",
    "\n",
    "    # Lemmatize the text\n",
    "    lemmatized_words = [lemmatizer.lemmatize(word) for word in nltk.word_tokenize(text) if word not in string.punctuation]\n",
    "\n",
    "    # Measure the end time\n",
    "    end_time = time.time()\n",
    "\n",
    "    # Print the execution time\n",
    "    print(\"NLTK lemmatization time:\", end_time - start_time, \"seconds\")\n",
    "\n",
    "    return lemmatized_words\n",
    "\n",
    "# Example usage:\n",
    "text = df['message'].str.cat(sep=' ')\n",
    "lemmatized_words = lemmatize_text(text)\n",
    "print(lemmatized_words[:100])\n",
    "most_common_words = most_frequent_words_and_total_word_count(lemmatized_words)\n"
   ]
  },
  {
   "cell_type": "markdown",
   "id": "dbd8a79c-1a90-457a-8c79-5d58101cb52b",
   "metadata": {},
   "source": [
    "**lemmatize the text using spaCy**"
   ]
  },
  {
   "cell_type": "code",
   "execution_count": 26,
   "id": "47e9c2c8-b234-42b7-937b-501d6d4e6793",
   "metadata": {},
   "outputs": [
    {
     "name": "stdout",
     "output_type": "stream",
     "text": [
      "spaCy lemmatization time: 31.48029088973999 seconds\n",
      "['go', 'until', 'jurong', 'point', 'crazy', 'available', 'only', 'in', 'bugis', 'n', 'great', 'world', 'la', 'e', 'buffet', 'Cine', 'there', 'get', 'amore', 'wat', 'ok', 'lar', 'joke', 'wif', 'u', 'oni', 'free', 'entry', 'in', '2', 'a', 'wkly', 'comp', 'to', 'win', 'FA', 'Cup', 'final', 'tkts', '21st', 'May', '2005', 'text', 'FA', 'to', '87121', 'to', 'receive', 'entry', 'question(std', 'txt', 'rate)T&C', \"'s\", 'apply', '08452810075over18', \"'s\", 'U', 'dun', 'say', 'so', 'early', 'hor', 'u', 'c', 'already', 'then', 'say', 'Nah', 'I', 'do', 'not', 'think', 'he', 'go', 'to', 'usf', 'he', 'live', 'around', 'here', 'though', 'FreeMsg', 'hey', 'there', 'darle', 'it', 'be', 'be', '3', 'week', \"'s\", 'now', 'and', 'no', 'word', 'back', 'I', 'would', 'like', 'some']\n",
      "Total number of words: 89158\n",
      "Top 5 most frequent words:\n",
      "I: 3719\n",
      "be: 3258\n",
      "to: 2309\n",
      "you: 2217\n",
      "a: 1421\n"
     ]
    }
   ],
   "source": [
    "# Load spaCy model\n",
    "nlp = spacy.load(\"en_core_web_sm\")\n",
    "\n",
    "def lemmatize_text_spacy(text):\n",
    "    # Measure the start time\n",
    "    start_time = time.time()\n",
    "\n",
    "    # Lemmatize the text using spaCy\n",
    "    lemmatized_words = [token.lemma_ for token in nlp(text) if not token.is_punct]\n",
    "\n",
    "    # Measure the end time\n",
    "    end_time = time.time()\n",
    "\n",
    "    # Print the execution time\n",
    "    print(\"spaCy lemmatization time:\", end_time - start_time, \"seconds\")\n",
    "\n",
    "    return lemmatized_words\n",
    "\n",
    "# Example usage:\n",
    "text = df['message'].str.cat(sep=' ')\n",
    "lemmatized_words = lemmatize_text_spacy(text)\n",
    "print(lemmatized_words[:100])\n",
    "most_common_words = most_frequent_words_and_total_word_count(lemmatized_words)\n"
   ]
  },
  {
   "cell_type": "markdown",
   "id": "908865b9-3a48-4d1b-8aff-b55884f4315b",
   "metadata": {},
   "source": [
    "Lemmatization using spaCy takes more time because, compared to O(n) time complexity of nltk, the one of spaCy is actually O(nlogn). The output is different again, as in nltk some words were not mapped into their meaninigful base structure while spacy actually did this mapping. I.e. in nltk the words were: \"Joking\", \"Going\", \"do\" \"n't\", and in spaCy: \"joke\", \"go\", \"do\" \"not\"."
   ]
  },
  {
   "cell_type": "markdown",
   "id": "4d911984-3cc9-4c26-88a4-99cedff5d425",
   "metadata": {},
   "source": [
    "**Stemming using NLTK**"
   ]
  },
  {
   "cell_type": "code",
   "execution_count": 27,
   "id": "84691e0f-b2aa-4136-82b6-a7fff5bbd819",
   "metadata": {},
   "outputs": [
    {
     "name": "stdout",
     "output_type": "stream",
     "text": [
      "NLTK stemming time: 3.8410892486572266 seconds\n",
      "Stemmed SMS messages using NLTK:\n",
      "['go', 'until', 'jurong', 'point', 'crazi', '..', 'avail', 'onli', 'in', 'bugi', 'n', 'great', 'world', 'la', 'e', 'buffet', '...', 'cine', 'there', 'got', 'amor', 'wat', '...', 'ok', 'lar', '...', 'joke', 'wif', 'u', 'oni', '...', 'free', 'entri', 'in', '2', 'a', 'wkli', 'comp', 'to', 'win', 'fa', 'cup', 'final', 'tkt', '21st', 'may', '2005', 'text', 'fa', 'to', '87121', 'to', 'receiv', 'entri', 'question', 'std', 'txt', 'rate', 't', 'c', \"'s\", 'appli', '08452810075over18', \"'s\", 'u', 'dun', 'say', 'so', 'earli', 'hor', '...', 'u', 'c', 'alreadi', 'then', 'say', '...', 'nah', 'i', 'do', \"n't\", 'think', 'he', 'goe', 'to', 'usf', 'he', 'live', 'around', 'here', 'though', 'freemsg', 'hey', 'there', 'darl', 'it', \"'s\", 'been', '3', 'week']\n",
      "Total number of words: 90391\n",
      "Top 5 most frequent words:\n",
      "i: 2900\n",
      "to: 2241\n",
      "you: 2228\n",
      "a: 1424\n",
      "the: 1324\n"
     ]
    }
   ],
   "source": [
    "def stem_text_nltk(text):\n",
    "    # Initialize PorterStemmer\n",
    "    stemmer = PorterStemmer()\n",
    "\n",
    "    # Measure the start time\n",
    "    start_time = time.time()\n",
    "\n",
    "    # Stem the text\n",
    "    stemmed_words = [stemmer.stem(word) for word in word_tokenize(text) if word not in string.punctuation]\n",
    "\n",
    "    # Measure the end time\n",
    "    end_time = time.time()\n",
    "\n",
    "    # Print the execution time\n",
    "    print(\"NLTK stemming time:\", end_time - start_time, \"seconds\")\n",
    "\n",
    "    return stemmed_words\n",
    "\n",
    "# Example usage:\n",
    "text = df['message'].str.cat(sep=' ')\n",
    "stemmed_words = stem_text_nltk(text)\n",
    "print(\"Stemmed SMS messages using NLTK:\")\n",
    "print(stemmed_words[:100])\n",
    "most_common_words = most_frequent_words_and_total_word_count(stemmed_words)\n"
   ]
  },
  {
   "cell_type": "markdown",
   "id": "2e32735e-c939-4c99-90f9-6b2245291d01",
   "metadata": {},
   "source": [
    "**Stemming using spaCy**\n",
    "\n",
    "spaCy doesn't have a native stemming function, so we used the 'nltk' stemmer within a spaCy pipeline for this purpose."
   ]
  },
  {
   "cell_type": "code",
   "execution_count": 28,
   "id": "594067be-f8e3-4987-bff6-a85b47a01c30",
   "metadata": {},
   "outputs": [
    {
     "name": "stdout",
     "output_type": "stream",
     "text": [
      "spaCy stemming time: 4.655331373214722 seconds\n",
      "Stemmed SMS messages using spaCy and NLTK's PorterStemmer:\n",
      "['go', 'until', 'jurong', 'point', ',', 'crazi', '..', 'avail', 'onli', 'in', 'bugi', 'n', 'great', 'world', 'la', 'e', 'buffet', '...', 'cine', 'there', 'got', 'amor', 'wat', '...', 'ok', 'lar', '...', 'joke', 'wif', 'u', 'oni', '...', 'free', 'entri', 'in', '2', 'a', 'wkli', 'comp', 'to', 'win', 'fa', 'cup', 'final', 'tkt', '21st', 'may', '2005', '.', 'text', 'fa', 'to', '87121', 'to', 'receiv', 'entri', 'question(std', 'txt', 'rate)t&c', \"'s\", 'appli', '08452810075over18', \"'s\", 'u', 'dun', 'say', 'so', 'earli', 'hor', '...', 'u', 'c', 'alreadi', 'then', 'say', '...', 'nah', 'i', 'do', \"n't\", 'think', 'he', 'goe', 'to', 'usf', ',', 'he', 'live', 'around', 'here', 'though', 'freemsg', 'hey', 'there', 'darl', 'it', \"'s\", 'been', '3', 'week']\n",
      "Total number of words: 103709\n",
      "Top 5 most frequent words:\n",
      ".: 4945\n",
      "i: 2960\n",
      "to: 2241\n",
      "you: 2217\n",
      ",: 1857\n"
     ]
    }
   ],
   "source": [
    "# Initialize spaCy and PorterStemmer\n",
    "nlp = spacy.blank(\"en\")\n",
    "stemmer = PorterStemmer()\n",
    "\n",
    "def stem_text_spacy(text):\n",
    "    # Custom stemming function using spaCy\n",
    "    def custom_stemmer(doc):\n",
    "        return [stemmer.stem(token.text) for token in doc]\n",
    "\n",
    "    # Measure the start time\n",
    "    start_time = time.time()\n",
    "\n",
    "    # Tokenize and stem the text\n",
    "    stemmed_words = custom_stemmer(nlp(text))\n",
    "\n",
    "    # Measure the end time\n",
    "    end_time = time.time()\n",
    "\n",
    "    # Print the execution time\n",
    "    print(\"spaCy stemming time:\", end_time - start_time, \"seconds\")\n",
    "\n",
    "    return stemmed_words\n",
    "\n",
    "# Example usage:\n",
    "text = df['message'].str.cat(sep=' ')\n",
    "stemmed_words = stem_text_spacy(text)\n",
    "print(\"Stemmed SMS messages using spaCy and NLTK's PorterStemmer:\")\n",
    "print(stemmed_words[:100])\n",
    "most_common_words = most_frequent_words_and_total_word_count(stemmed_words)\n"
   ]
  },
  {
   "cell_type": "markdown",
   "id": "cabbf46e-a992-48a9-a3fd-6a8012345f29",
   "metadata": {},
   "source": [
    "Since spaCy does not have its own stemming algorithm, almost everything is the same (time complexity and the output)."
   ]
  },
  {
   "cell_type": "code",
   "execution_count": 29,
   "id": "52177a6d-de34-4480-bd0a-814e16d0ba0f",
   "metadata": {},
   "outputs": [
    {
     "name": "stdout",
     "output_type": "stream",
     "text": [
      "The Selkirk Rex is a breed of cat with highly curled hair.[1]\n",
      "The Selkirk Rex is distinct from all other Rex breeds. Unlike the Devon Rex and Cornish Rex, the hair is of normal length and not partly missing. There are longhair and shorthair varieties.[2] It differs from the LaPerm in that the Selkirk Rex coat is plusher and thicker. While the LaPerm gene is a simple dominant, the Selkirk gene (Se) acts as an incomplete dominant; incompletely dominant allele pairs produce three possible genotypes and phenotypes: heterozygous cats (Sese) may have a fuller coat that is preferred in the show ring, while homozygous cats (SeSe) may have a tighter curl and less coat volume.\n",
      "The Selkirk Rex originated in Montana, USA in 1987, with a litter born to a rescued cat.[3] The only unusually coated kitten in the litter was ultimately placed with breeder, Jeri Newman, who named her Miss DiPesto (after a curly-haired character in the TV series Moonlighting played by Allyce Beasley). This foundation cat was bred to a black Persian tomcat, producing three Selkirk Rex and three straight-haired kittens. This demonstrated that the gene had an autosomal dominant mode of inheritance. All Selkirk Rex trace their ancestry back to the cat Miss DiPesto. Jeri Newman named the breed after her stepfather, \"Selkirk,\" making this the first (and currently only) breed of cat to be named after an actual person.[4]\n",
      "The breed has been developed in two coat lengths, long and short. It is a large and solidly built breed, similar to a British Shorthair. The coat is very soft and has a woolly look and feel with loose, unstructured curls. The head is round, with large rounded eyes, medium-sized ears, and a distinct muzzle, whose length is equal to half its width. An extreme break, like that of a Persian, is a disqualifiable fault.\n",
      "American Shorthairs, Persians, Himalayans, Exotic Shorthairs, and British Shorthairs have been used as outcrosses to develop this breed.[5] The American Shorthair has now been discontinued as an outcross, except in The International Cat Association (TICA). The breed was accepted by The International Cat Association in 1992,[6] the American Cat Fanciers Association in 1998, and the Cat Fanciers' Association in 2000. In Cat Fanciers' Association (CFA) and in Australia, all outcrosses are scheduled to be discontinued in 2015.\n",
      "The breed is accepted in all colors, including the pointed, sepia, and mink varieties of albinism; bicolors; cinnamon; silver/smoke; and the chocolate and lilac series. This breed has an extremely dense coat and high propensity for shedding. Unlike other Rex breeds with reduced amounts of hair, the Selkirk Rex is not recommended for those who might be allergic to cat allergens.\n",
      "The temperament of the Selkirk Rex reflects that of the breeds used in its development. They have a lot of the laid-back, reserved qualities of the British Shorthair, the cuddly nature of the Persian, and the playfulness of the Exotic Shorthair.\n",
      "There are no known health problems specific to the Selkirk Rex breed. They are a robust breed. Breeding towards proper head structure is necessary to prevent kinking of the tear ducts, resulting in tear run down the front of the face, or muzzle creases that can result in dermatitis on the face. Like other Rex breeds, irritation of the inside of the ear by curly fur can occur, increasing the production of ear wax. Homozygous cats (with two copies of the dominant Selkirk Rex gene) may have a tendency towards excessive greasiness of the coat, requiring increased frequency of bathing. Other health problems may be inherited from the outcross breeds used, including polycystic kidney disease from Persians and hypertrophic cardiomyopathy from British Shorthairs. Responsible breeders screen their breeding cats for these diseases to minimize their impact on the breed.\n",
      "In the UK, all Selkirk Rex registered with the Governing Council of the Cat Fancy (GCCF) for breeding are genetically tested for Polycystic Kidney Disease or are from two genetically tested parents.[7]\n",
      "The Selkirk Rex is defined by an autosomal dominant woolly rexoid hair (ADWH) abnormality that is characterized by tightly curled hair shafts.[8] A splice variant in the gene KRT71 was found to be associated with the curly coat phenotype. KRT71 is a crucial gene for keratinization of the hair follicle. An allele of this gene is also responsible for the hairless (hr) Sphynx and the Devon Rex (re) hair.[9] Three mutations in KRT71 have now been identified in cats, forming the allelic series, KRT71SADRE > KRT71+ > KRT71re > KRT71hr,[10] where SADRE is the suggested locus designation for the Selkirk autosomal dominant rex\n",
      "21 allele.\n",
      "\n",
      "Total number of words: 763\n",
      "Top 5 most frequent words:\n",
      "the: 49\n",
      "of: 24\n",
      "and: 22\n",
      "in: 20\n",
      "is: 19\n"
     ]
    }
   ],
   "source": [
    "# Define the URL of the Wikipedia page for Selkirk Rex\n",
    "url = \"https://en.wikipedia.org/wiki/Selkirk_Rex\"\n",
    "\n",
    "# Send a GET request to the URL\n",
    "response = requests.get(url)\n",
    "\n",
    "# Parse the HTML content of the page\n",
    "soup = BeautifulSoup(response.content, 'html.parser')\n",
    "\n",
    "# Find the container element that holds the main content of the page\n",
    "content_div = soup.find('div', {'class': 'mw-parser-output'})\n",
    "\n",
    "# Find all <p> tags within the content area\n",
    "if content_div:\n",
    "    paragraphs = content_div.find_all('p')\n",
    "\n",
    "    # Extract text from each paragraph and concatenate them into a single string\n",
    "    text_data = ''\n",
    "    for paragraph in paragraphs:\n",
    "        text_data += paragraph.get_text()\n",
    "\n",
    "    # Print the scraped text data\n",
    "    print(text_data)\n",
    "    all_words = text_data.split()\n",
    "    most_common_words = most_frequent_words_and_total_word_count(all_words)\n",
    "else:\n",
    "    print(\"Main content container not found.\")"
   ]
  },
  {
   "cell_type": "markdown",
   "id": "495d3960-b4d3-4655-acdd-1e771105ffd0",
   "metadata": {},
   "source": [
    "**We used spacy tokenization on html text**"
   ]
  },
  {
   "cell_type": "code",
   "execution_count": 30,
   "id": "26892226-dd94-4c21-90f2-09e5f7a1016f",
   "metadata": {},
   "outputs": [
    {
     "name": "stdout",
     "output_type": "stream",
     "text": [
      "NLTK tokenize time: 0.03070545196533203 seconds\n",
      "['The', 'Selkirk', 'Rex', 'is', 'a', 'breed', 'of', 'cat', 'with', 'highly', 'curled', 'hair', '1', 'The', 'Selkirk', 'Rex', 'is', 'distinct', 'from', 'all', 'other', 'Rex', 'breeds', 'Unlike', 'the', 'Devon', 'Rex', 'and', 'Cornish', 'Rex', 'the', 'hair', 'is', 'of', 'normal', 'length', 'and', 'not', 'partly', 'missing', 'There', 'are', 'longhair', 'and', 'shorthair', 'varieties', '2', 'It', 'differs', 'from', 'the', 'LaPerm', 'in', 'that', 'the', 'Selkirk', 'Rex', 'coat', 'is', 'plusher', 'and', 'thicker', 'While', 'the', 'LaPerm', 'gene', 'is', 'a', 'simple', 'dominant', 'the', 'Selkirk', 'gene', 'Se', 'acts', 'as', 'an', 'incomplete', 'dominant', 'incompletely', 'dominant', 'allele', 'pairs', 'produce', 'three', 'possible', 'genotypes', 'and', 'phenotypes', 'heterozygous', 'cats', 'Sese', 'may', 'have', 'a', 'fuller', 'coat', 'that', 'is', 'preferred']\n",
      "Total number of words: 772\n",
      "Top 5 most frequent words:\n",
      "the: 49\n",
      "of: 24\n",
      "and: 23\n",
      "in: 20\n",
      "is: 19\n"
     ]
    }
   ],
   "source": [
    "tokens_nltk = tokenize_with_nltk(text_data)\n",
    "print(tokens_nltk[:100])\n",
    "most_common_words = most_frequent_words_and_total_word_count(tokens_nltk)"
   ]
  },
  {
   "cell_type": "markdown",
   "id": "70525518-5c70-4b23-838d-8e6e75e3eb73",
   "metadata": {},
   "source": [
    "**We used NLTK lemmatized on html text**"
   ]
  },
  {
   "cell_type": "code",
   "execution_count": 31,
   "id": "8d829f9e-d9c4-4f58-95f6-11919af68eb9",
   "metadata": {},
   "outputs": [
    {
     "name": "stdout",
     "output_type": "stream",
     "text": [
      "NLTK lemmatization time: 0.014234542846679688 seconds\n",
      "['The', 'Selkirk', 'Rex', 'is', 'a', 'breed', 'of', 'cat', 'with', 'highly', 'curled', 'hair', '1', 'The', 'Selkirk', 'Rex', 'is', 'distinct', 'from', 'all', 'other', 'Rex', 'breed', 'Unlike', 'the', 'Devon', 'Rex', 'and', 'Cornish', 'Rex', 'the', 'hair', 'is', 'of', 'normal', 'length', 'and', 'not', 'partly', 'missing', 'There', 'are', 'longhair', 'and', 'shorthair', 'variety', '2', 'It', 'differs', 'from', 'the', 'LaPerm', 'in', 'that', 'the', 'Selkirk', 'Rex', 'coat', 'is', 'plusher', 'and', 'thicker', 'While', 'the', 'LaPerm', 'gene', 'is', 'a', 'simple', 'dominant', 'the', 'Selkirk', 'gene', 'Se', 'act', 'a', 'an', 'incomplete', 'dominant', 'incompletely', 'dominant', 'allele', 'pair', 'produce', 'three', 'possible', 'genotype', 'and', 'phenotype', 'heterozygous', 'cat', 'Sese', 'may', 'have', 'a', 'fuller', 'coat', 'that', 'is', 'preferred']\n",
      "Total number of words: 772\n",
      "Top 5 most frequent words:\n",
      "the: 49\n",
      "of: 24\n",
      "and: 23\n",
      "a: 21\n",
      "in: 20\n"
     ]
    }
   ],
   "source": [
    "lemmatized_words = lemmatize_text(text_data)\n",
    "print(lemmatized_words[:100])\n",
    "most_common_words = most_frequent_words_and_total_word_count(lemmatized_words)"
   ]
  },
  {
   "cell_type": "markdown",
   "id": "cc0ffc89-8ace-424c-a454-c33e2ac01200",
   "metadata": {},
   "source": [
    "**We used NLTK stemming on html text**"
   ]
  },
  {
   "cell_type": "code",
   "execution_count": 32,
   "id": "c9dd469f-b10c-4041-9759-05f800173bdf",
   "metadata": {},
   "outputs": [
    {
     "name": "stdout",
     "output_type": "stream",
     "text": [
      "NLTK stemming time: 0.03751707077026367 seconds\n",
      "['the', 'selkirk', 'rex', 'is', 'a', 'breed', 'of', 'cat', 'with', 'highli', 'curl', 'hair', '1', 'the', 'selkirk', 'rex', 'is', 'distinct', 'from', 'all', 'other', 'rex', 'breed', 'unlik', 'the', 'devon', 'rex', 'and', 'cornish', 'rex', 'the', 'hair', 'is', 'of', 'normal', 'length', 'and', 'not', 'partli', 'miss', 'there', 'are', 'longhair', 'and', 'shorthair', 'varieti', '2', 'it', 'differ', 'from', 'the', 'laperm', 'in', 'that', 'the', 'selkirk', 'rex', 'coat', 'is', 'plusher', 'and', 'thicker', 'while', 'the', 'laperm', 'gene', 'is', 'a', 'simpl', 'domin', 'the', 'selkirk', 'gene', 'se', 'act', 'as', 'an', 'incomplet', 'domin', 'incomplet', 'domin', 'allel', 'pair', 'produc', 'three', 'possibl', 'genotyp', 'and', 'phenotyp', 'heterozyg', 'cat', 'sese', 'may', 'have', 'a', 'fuller', 'coat', 'that', 'is', 'prefer']\n",
      "Total number of words: 772\n",
      "Top 5 most frequent words:\n",
      "the: 63\n",
      "of: 24\n",
      "and: 23\n",
      "in: 22\n",
      "breed: 20\n"
     ]
    }
   ],
   "source": [
    "stemmed_words = stem_text_nltk(text_data)\n",
    "print(stemmed_words[:100])\n",
    "most_common_words = most_frequent_words_and_total_word_count(stemmed_words)"
   ]
  },
  {
   "cell_type": "code",
   "execution_count": 33,
   "id": "b2557edb-dd98-401c-895b-beb8c5eb6aed",
   "metadata": {},
   "outputs": [
    {
     "name": "stdout",
     "output_type": "stream",
     "text": [
      "2.1.2024, 9:07 - ליעד מדמח: בוקר טוב, מישהו יוכל לרשום יותר מאוחר אם חייב לקחת בן זוג שנמצא באותה קבוצה או שאפשר להצתוות יחד משני קבוצות? (שני הקבוצות של עמית שטקל כמובן)\n",
      " 2.1.2024, 9:29 - ‏‪+972 52-652-2389‬‏: שאלתי \n",
      " טען שיענה בהמשך כי צריך לחשוב על זה\n",
      " 2.1.2024, 9:32 - ליעד מדמח: תודה!\n",
      " 2.1.2024,\n"
     ]
    }
   ],
   "source": [
    "# Define the path to your .txt file\n",
    "file_path = r\"C:\\Users\\USER\\Downloads\\�צ'אט WhatsApp עם פרוייקט גמר (עמית שטקל) חורף 2024\\‏צ'אט WhatsApp עם פרוייקט גמר (עמית שטקל) חורף 2024.txt\"\n",
    "\n",
    "# Read the file content\n",
    "with open(file_path, 'r', encoding='utf-8') as file:\n",
    "    messages = file.readlines()\n",
    "\n",
    "# Concatenate all messages into a single string\n",
    "all_text = ' '.join(messages)\n",
    "print(all_text[:300])\n"
   ]
  },
  {
   "cell_type": "code",
   "execution_count": 34,
   "id": "99d6369b-b223-49f1-9b4b-7a0555c9df8e",
   "metadata": {},
   "outputs": [],
   "source": [
    "def print_word_statistics(tokens, title):\n",
    "    total_words = len(tokens)\n",
    "    word_counts = Counter(tokens)\n",
    "    most_common_words = word_counts.most_common(5)\n",
    "    print(f\"{title} - Total number of words: {total_words}\")\n",
    "    print(f\"{title} - Top 5 most frequent words:\")\n",
    "    for word, count in most_common_words:\n",
    "        print(f\"{word}: {count}\")\n",
    "    print()\n"
   ]
  },
  {
   "cell_type": "code",
   "execution_count": 35,
   "id": "2c06d494-e037-40ac-985d-8c0573acbf5e",
   "metadata": {},
   "outputs": [
    {
     "name": "stdout",
     "output_type": "stream",
     "text": [
      "['ליעד', 'מדמח', 'בוקר', 'טוב', 'מישהו', 'יוכל', 'לרשום', 'יותר', 'מאוחר', 'אם', 'חייב', 'לקחת', 'בן', 'זוג', 'שנמצא', 'באותה', 'קבוצה', 'או', 'שאפשר', 'להצתוות', 'יחד', 'משני', 'קבוצות', 'שני', 'הקבוצות', 'של', 'עמית', 'שטקל', 'כמובן', 'שאלתי', 'טען', 'שיענה', 'בהמשך', 'כי', 'צריך', 'לחשוב', 'על', 'זה', 'ליעד', 'מדמח', 'תודה', 'לקבוצה', 'באמצעות', 'קישור', 'ההזמנה', 'לקבוצה', 'באמצעות', 'קישור', 'ההזמנה', 'עמית', 'שטקל', 'הי', 'חברים', 'אתם', 'מוזמנים', 'לפנות', 'אלי', 'בכל', 'שאלה', 'ואעשה', 'מאמץ', 'לעזור', 'ככל', 'יכולתי', 'שיהיה', 'לנו', 'בהצלחה', 'לקבוצה', 'באמצעות', 'קישור', 'ההזמנה', 'עמית', 'שטקל', 'לגבי', 'מציאת', 'בן', 'זוג', 'לפרויקט', 'אני', 'לוקח', 'בחשבון', 'שלא', 'כולם', 'מכירים', 'את', 'כולם', 'ולכן', 'אעזור', 'לכם', 'אנא', 'פנו', 'אלי', 'בבחירת', 'רעיונות', 'אישיים', 'כפי', 'שדיברנו', 'ושאקבל', 'את', 'כולם']\n",
      "hebrew_tokens - Total number of words: 6030\n",
      "hebrew_tokens - Top 5 most frequent words:\n",
      "עמית: 169\n",
      "שטקל: 147\n",
      "את: 119\n",
      "לא: 94\n",
      "של: 87\n",
      "\n"
     ]
    }
   ],
   "source": [
    "def tokenize_hebrew_text(text):\n",
    "    tokens = word_tokenize(text)\n",
    "    hebrew_tokens = [token for token in tokens if token.isalnum() and any('\\u0590' <= char <= '\\u05EA' for char in token)]\n",
    "    return hebrew_tokens\n",
    "\n",
    "# דוגמה לשימוש:\n",
    "hebrew_tokens = tokenize_hebrew_text(all_text)\n",
    "print(hebrew_tokens[:100])\n",
    "print_word_statistics(hebrew_tokens, \"hebrew_tokens\")\n"
   ]
  },
  {
   "cell_type": "code",
   "execution_count": 36,
   "id": "23511247-81fa-47b3-9658-331c6931f349",
   "metadata": {},
   "outputs": [
    {
     "name": "stdout",
     "output_type": "stream",
     "text": [
      "['ליעד', 'מדמח', 'בוקר', 'טוב', 'מישהו', 'יוכל', 'לרשום', 'יותר', 'מאוחר', 'אם', 'חייב', 'לקחת', 'בן', 'זוג', 'שנמצא', 'באותה', 'קבוצה', 'או', 'שאפשר', 'להצתוות', 'יחד', 'משני', 'קבוצות', 'שני', 'הקבוצות', 'של', 'עמית', 'שטקל', 'כמובן', 'שאלתי', 'טען', 'שיענה', 'בהמשך', 'כי', 'צריך', 'לחשוב', 'על', 'זה', 'ליעד', 'מדמח', 'תודה', 'לקבוצה', 'באמצעות', 'קישור', 'ההזמנה', 'לקבוצה', 'באמצעות', 'קישור', 'ההזמנה', 'עמית', 'שטקל', 'הי', 'חברים', 'אתם', 'מוזמנים', 'לפנות', 'אלי', 'בכל', 'שאלה', 'ואעשה', 'מאמץ', 'לעזור', 'ככל', 'יכולתי', 'שיהיה', 'לנו', 'בהצלחה', 'לקבוצה', 'באמצעות', 'קישור', 'ההזמנה', 'עמית', 'שטקל', 'לגבי', 'מציאת', 'בן', 'זוג', 'לפרויקט', 'אני', 'לוקח', 'בחשבון', 'שלא', 'כולם', 'מכירים', 'את', 'כולם', 'ולכן', 'אעזור', 'לכם', 'אנא', 'פנו', 'אלי', 'בבחירת', 'רעיונות', 'אישיים', 'כפי', 'שדיברנו', 'ושאקבל', 'את', 'כולם']\n",
      "lemmatized_tokens - Total number of words: 6030\n",
      "lemmatized_tokens - Top 5 most frequent words:\n",
      "עמית: 169\n",
      "שטקל: 147\n",
      "את: 119\n",
      "לא: 94\n",
      "של: 87\n",
      "\n"
     ]
    }
   ],
   "source": [
    "def lemmatize_hebrew_text(text):\n",
    "    lemmatizer = WordNetLemmatizer()\n",
    "    tokens = word_tokenize(text)\n",
    "    hebrew_tokens = [token for token in tokens if token.isalnum() and any('\\u0590' <= char <= '\\u05EA' for char in token)]\n",
    "\n",
    "    lemmatized_tokens = [lemmatizer.lemmatize(token) for token in hebrew_tokens]\n",
    "    return lemmatized_tokens\n",
    "\n",
    "\n",
    "lemmatized_tokens = lemmatize_hebrew_text(all_text)\n",
    "\n",
    "print(lemmatized_tokens[:100])\n",
    "print_word_statistics(lemmatized_tokens, \"lemmatized_tokens\")\n"
   ]
  },
  {
   "cell_type": "code",
   "execution_count": 37,
   "id": "6c66e16a-d096-480c-8167-011546beeb49",
   "metadata": {},
   "outputs": [
    {
     "name": "stdout",
     "output_type": "stream",
     "text": [
      "['ליעד', 'מדמח', 'בוקר', 'טוב', 'מישהו', 'יוכל', 'לרשום', 'יותר', 'מאוחר', 'אם', 'חייב', 'לקחת', 'בן', 'זוג', 'שנמצא', 'באותה', 'קבוצה', 'או', 'שאפשר', 'להצתוות', 'יחד', 'משני', 'קבוצות', 'שני', 'הקבוצות', 'של', 'עמית', 'שטקל', 'כמובן', 'שאלתי', 'טען', 'שיענה', 'בהמשך', 'כי', 'צריך', 'לחשוב', 'על', 'זה', 'ליעד', 'מדמח', 'תודה', 'לקבוצה', 'באמצעות', 'קישור', 'ההזמנה', 'לקבוצה', 'באמצעות', 'קישור', 'ההזמנה', 'עמית', 'שטקל', 'הי', 'חברים', 'אתם', 'מוזמנים', 'לפנות', 'אלי', 'בכל', 'שאלה', 'ואעשה', 'מאמץ', 'לעזור', 'ככל', 'יכולתי', 'שיהיה', 'לנו', 'בהצלחה', 'לקבוצה', 'באמצעות', 'קישור', 'ההזמנה', 'עמית', 'שטקל', 'לגבי', 'מציאת', 'בן', 'זוג', 'לפרויקט', 'אני', 'לוקח', 'בחשבון', 'שלא', 'כולם', 'מכירים', 'את', 'כולם', 'ולכן', 'אעזור', 'לכם', 'אנא', 'פנו', 'אלי', 'בבחירת', 'רעיונות', 'אישיים', 'כפי', 'שדיברנו', 'ושאקבל', 'את', 'כולם']\n",
      "lemmatized_tokens - Total number of words: 6030\n",
      "lemmatized_tokens - Top 5 most frequent words:\n",
      "עמית: 169\n",
      "שטקל: 147\n",
      "את: 119\n",
      "לא: 94\n",
      "של: 87\n",
      "\n"
     ]
    }
   ],
   "source": [
    "def lemmatize_hebrew_text(text):\n",
    "    lemmatizer = WordNetLemmatizer()\n",
    "    tokens = word_tokenize(text)\n",
    "    hebrew_tokens = [token for token in tokens if token.isalnum() and any('\\u0590' <= char <= '\\u05EA' for char in token)]\n",
    "\n",
    "    lemmatized_tokens = [lemmatizer.lemmatize(token) for token in hebrew_tokens]\n",
    "    return lemmatized_tokens\n",
    "\n",
    "\n",
    "lemmatized_tokens = lemmatize_hebrew_text(all_text)\n",
    "\n",
    "print(lemmatized_tokens[:100])\n",
    "print_word_statistics(lemmatized_tokens, \"lemmatized_tokens\")\n"
   ]
  },
  {
   "cell_type": "code",
   "execution_count": 38,
   "id": "9cab01d0-3569-46db-8991-53cbaace0d8c",
   "metadata": {},
   "outputs": [
    {
     "name": "stdout",
     "output_type": "stream",
     "text": [
      "['ליעד', 'מדמח', 'בוקר', 'טוב', 'מישהו', 'יוכל', 'לרשום', 'יותר', 'מאוחר', 'אם', 'חייב', 'לקחת', 'בן', 'זוג', 'שנמצא', 'באותה', 'קבוצה', 'או', 'שאפשר', 'להצתוות', 'יחד', 'משני', 'קבוצות', 'שני', 'הקבוצות', 'של', 'עמית', 'שטקל', 'כמובן', 'שאלתי', 'טען', 'שיענה', 'בהמשך', 'כי', 'צריך', 'לחשוב', 'על', 'זה', 'ליעד', 'מדמח', 'תודה', 'לקבוצה', 'באמצעות', 'קישור', 'ההזמנה', 'לקבוצה', 'באמצעות', 'קישור', 'ההזמנה', 'עמית', 'שטקל', 'הי', 'חברים', 'אתם', 'מוזמנים', 'לפנות', 'אלי', 'בכל', 'שאלה', 'ואעשה', 'מאמץ', 'לעזור', 'ככל', 'יכולתי', 'שיהיה', 'לנו', 'בהצלחה', 'לקבוצה', 'באמצעות', 'קישור', 'ההזמנה', 'עמית', 'שטקל', 'לגבי', 'מציאת', 'בן', 'זוג', 'לפרויקט', 'אני', 'לוקח', 'בחשבון', 'שלא', 'כולם', 'מכירים', 'את', 'כולם', 'ולכן', 'אעזור', 'לכם', 'אנא', 'פנו', 'אלי', 'בבחירת', 'רעיונות', 'אישיים', 'כפי', 'שדיברנו', 'ושאקבל', 'את', 'כולם']\n",
      "stemmed_tokens - Total number of words: 6030\n",
      "stemmed_tokens - Top 5 most frequent words:\n",
      "עמית: 169\n",
      "שטקל: 147\n",
      "את: 119\n",
      "לא: 94\n",
      "של: 87\n",
      "\n"
     ]
    }
   ],
   "source": [
    "def stem_hebrew_text(text):\n",
    "    stemmer = SnowballStemmer(\"porter\")\n",
    "    tokens = word_tokenize(text)\n",
    "    hebrew_tokens = [token for token in tokens if token.isalnum() and any('\\u0590' <= char <= '\\u05EA' for char in token)]\n",
    "    stemmed_tokens = [stemmer.stem(token) for token in hebrew_tokens]\n",
    "    return stemmed_tokens\n",
    "stemmed_tokens = stem_hebrew_text(all_text)\n",
    "\n",
    "print(stemmed_tokens[:100])\n",
    "print_word_statistics(stemmed_tokens, \"stemmed_tokens\")\n"
   ]
  },
  {
   "cell_type": "markdown",
   "id": "f0440695-29f4-4de7-8d4c-fbe88a6c8ec5",
   "metadata": {},
   "source": [
    "Since nltk doesnt support hebrew language, we used English package as per Sharon. Obviously, everything looks the same."
   ]
  }
 ],
 "metadata": {
  "kernelspec": {
   "display_name": "Python 3 (ipykernel)",
   "language": "python",
   "name": "python3"
  },
  "language_info": {
   "codemirror_mode": {
    "name": "ipython",
    "version": 3
   },
   "file_extension": ".py",
   "mimetype": "text/x-python",
   "name": "python",
   "nbconvert_exporter": "python",
   "pygments_lexer": "ipython3",
   "version": "3.11.5"
  }
 },
 "nbformat": 4,
 "nbformat_minor": 5
}
